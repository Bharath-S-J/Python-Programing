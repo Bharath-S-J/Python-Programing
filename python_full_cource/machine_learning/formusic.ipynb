{
 "cells": [
  {
   "cell_type": "code",
   "execution_count": 4,
   "id": "6967be3d",
   "metadata": {},
   "outputs": [
    {
     "data": {
      "text/plain": [
       "0.5"
      ]
     },
     "execution_count": 4,
     "metadata": {},
     "output_type": "execute_result"
    }
   ],
   "source": [
    "#for cleaning, building machine learning model, Accuracy, persisting Models\n",
    "import pandas as pd\n",
    "from sklearn.tree import DecisionTreeClassifier\n",
    "from sklearn.model_selection import train_test_split\n",
    "from sklearn.metrics import accuracy_score\n",
    "\n",
    "# Load music dataset\n",
    "music_data = pd.read_csv('music.csv')\n",
    "\n",
    "# Display the loaded dataset\n",
    "print(\"Loaded Music Dataset:\")\n",
    "print(music_data)\n",
    "\n",
    "# Prepare input features (x) and target labels (y)\n",
    "x = music_data.drop(columns=['genre'])  # Features (input data)\n",
    "y = music_data['genre']  # Target labels\n",
    "\n",
    "# Split the dataset into training and testing sets\n",
    "x_train, x_test, y_train, y_test = train_test_split(x, y, test_size=0.2)\n",
    "\n",
    "# Initialize and train the Decision Tree Classifier model\n",
    "model = DecisionTreeClassifier()\n",
    "model.fit(x_train, y_train)\n",
    "\n",
    "# Make predictions using the trained model on test data\n",
    "predictions = model.predict(x_test)\n",
    "\n",
    "# Evaluate the accuracy of the model\n",
    "score = accuracy_score(y_test, predictions)\n",
    "print(f\"Accuracy Score: {score}\")\n",
    "\n"
   ]
  },
  {
   "cell_type": "code",
   "execution_count": 8,
   "id": "e4373956",
   "metadata": {},
   "outputs": [
    {
     "data": {
      "text/plain": [
       "['music-recommender.joblib']"
      ]
     },
     "execution_count": 8,
     "metadata": {},
     "output_type": "execute_result"
    }
   ],
   "source": [
    "import pandas as pd\n",
    "from sklearn.tree import DecisionTreeClassifier\n",
    "import joblib\n",
    "\n",
    "# Load music dataset\n",
    "music_data = pd.read_csv('music.csv')\n",
    "\n",
    "# Prepare input features (x) and target labels (y)\n",
    "x = music_data.drop(columns=['genre'])  # Features (input data)\n",
    "y = music_data['genre']  # Target labels\n",
    "\n",
    "# Initialize and train the Decision Tree Classifier model\n",
    "model = DecisionTreeClassifier()\n",
    "model.fit(x, y)\n",
    "\n",
    "# Save the trained model using joblib\n",
    "joblib.dump(model, 'music-recommender.joblib')\n",
    "\n",
    "print(\"Trained model saved successfully as 'music-recommender.joblib'\")\n"
   ]
  },
  {
   "cell_type": "code",
   "execution_count": 11,
   "id": "ed7eec27",
   "metadata": {},
   "outputs": [
    {
     "name": "stderr",
     "output_type": "stream",
     "text": [
      "C:\\Softwares\\Anaconda\\Lib\\site-packages\\sklearn\\base.py:464: UserWarning: X does not have valid feature names, but DecisionTreeClassifier was fitted with feature names\n",
      "  warnings.warn(\n"
     ]
    },
    {
     "data": {
      "text/plain": [
       "array(['HipHop'], dtype=object)"
      ]
     },
     "execution_count": 11,
     "metadata": {},
     "output_type": "execute_result"
    }
   ],
   "source": [
    "import joblib\n",
    "\n",
    "# Load the saved model\n",
    "model = joblib.load('music-recommender.joblib')\n",
    "\n",
    "# Prepare new input data for prediction (example: age=21, gender=1)\n",
    "new_data = [[21, 1]]\n",
    "\n",
    "# Use the loaded model to make predictions on the new data\n",
    "predictions = model.predict(new_data)\n",
    "\n",
    "# Display the predicted genre based on the input data\n",
    "print(\"Predicted Genre:\", predictions)\n"
   ]
  },
  {
   "cell_type": "code",
   "execution_count": 14,
   "id": "09b5dca9",
   "metadata": {},
   "outputs": [],
   "source": [
    "from sklearn import tree\n",
    "from sklearn.datasets import load_iris\n",
    "import graphviz\n",
    "\n",
    "# Load the music dataset (for demonstration purposes)\n",
    "# Replace this with your actual dataset loading code\n",
    "# music_data = pd.read_csv('music.csv')\n",
    "# x = music_data.drop(columns=['genre'])\n",
    "# y = music_data['genre']\n",
    "\n",
    "# Assuming 'model' is your trained DecisionTreeClassifier\n",
    "# Replace 'model' with your actual trained model variable\n",
    "# model = DecisionTreeClassifier()\n",
    "# model.fit(x, y)\n",
    "\n",
    "# Export the decision tree visualization to a .dot file\n",
    "tree.export_graphviz(model,\n",
    "                     out_file='music-recommender.dot',\n",
    "                     feature_names=['age', 'gender'],  # List of feature names\n",
    "                     class_names=sorted(y.unique()),  # List of unique class labels\n",
    "                     label='all',  # Show all node labels\n",
    "                     rounded=True,  # Rounded corners for nodes\n",
    "                     filled=True)  # Fill nodes with colors representing classes\n",
    "\n",
    "# Optionally, convert the .dot file to a visual representation (e.g., PNG) using Graphviz\n",
    "with open('music-recommender.dot') as f:\n",
    "    dot_graph = f.read()\n",
    "graphviz.Source(dot_graph)\n"
   ]
  }
 ],
 "metadata": {
  "kernelspec": {
   "display_name": "Python 3 (ipykernel)",
   "language": "python",
   "name": "python3"
  },
  "language_info": {
   "codemirror_mode": {
    "name": "ipython",
    "version": 3
   },
   "file_extension": ".py",
   "mimetype": "text/x-python",
   "name": "python",
   "nbconvert_exporter": "python",
   "pygments_lexer": "ipython3",
   "version": "3.11.5"
  }
 },
 "nbformat": 4,
 "nbformat_minor": 5
}
